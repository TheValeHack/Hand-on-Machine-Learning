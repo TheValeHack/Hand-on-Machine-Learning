{
 "cells": [
  {
   "cell_type": "markdown",
   "id": "e6cbd6d7-daf5-40e7-b4b0-696420147a32",
   "metadata": {},
   "source": [
    "# Exercises"
   ]
  },
  {
   "cell_type": "markdown",
   "id": "f97bc212-d9a8-4e8f-864b-b17540ae830e",
   "metadata": {},
   "source": [
    "## 1. How would you define machine learning?\n",
    "Machine learning is a concept where a machine or a system can learn from datas and change their performance"
   ]
  },
  {
   "cell_type": "markdown",
   "id": "8f2d5ee3-0f5e-4dee-8879-bfe3dddd5eff",
   "metadata": {},
   "source": [
    "## 2. Can you name four types of applications where it shines?\n",
    "- Speech to text conversion\n",
    "- Analyzing the species of an animal in the image given\n",
    "- Recommendation system\n",
    "- Create a conclusion from the given text"
   ]
  },
  {
   "cell_type": "markdown",
   "id": "d8562b19-e880-491c-bd73-72098c9ec5a8",
   "metadata": {
    "jp-MarkdownHeadingCollapsed": true
   },
   "source": [
    "## 3. What is a labeled training set?\n",
    "Training set that have the true output in their instances"
   ]
  },
  {
   "cell_type": "markdown",
   "id": "a08d401b-a7f8-4d37-aa0e-ca9bd2059831",
   "metadata": {},
   "source": [
    "## 4. What are the two most common supervised tasks?\n",
    "Regression (predicting continuous numerical value) and classification (predicting a value included in the fixed group of values)"
   ]
  },
  {
   "cell_type": "markdown",
   "id": "8c4872d3-75a1-4561-b639-5776528c9cb5",
   "metadata": {},
   "source": [
    "## 5. Can you name four common unsupervised tasks?\n",
    "- Clustering\n",
    "- visualtization\n",
    "- dimensionality reduction\n",
    "- association rule learning"
   ]
  },
  {
   "cell_type": "markdown",
   "id": "494ae1cf-2365-4d84-b501-f715c691038c",
   "metadata": {},
   "source": [
    "## 6. What type of algorithm would you use to allow a robot to walk in various unknkown terrains?\n",
    "Reinforcement learning algorithm"
   ]
  },
  {
   "cell_type": "markdown",
   "id": "42207a71-3d59-4c58-8153-73b223e2d666",
   "metadata": {},
   "source": [
    "## 7. What type of algorithm would you use to segment your customers into multiple groups\n",
    "Clustering with unsupervised learning algorithm if you dont know what group you should throw them to. If you know it, use supervised learning algoritm (classification)"
   ]
  },
  {
   "cell_type": "markdown",
   "id": "1738bddb-6711-44fc-8d5a-1b9d7b66ba3b",
   "metadata": {},
   "source": [
    "## 8. Would you frame the problem of spam detection as a supervised learning problem or an unsupervised learning problem\n",
    "Supervised learning problem"
   ]
  },
  {
   "cell_type": "markdown",
   "id": "448392d6-8dbc-422e-b950-9d5e091a5a4e",
   "metadata": {
    "jp-MarkdownHeadingCollapsed": true
   },
   "source": [
    "## 9. What is an online learning system?\n",
    "An system where the model could learning time by time with new instances (in each learning session, they cuould learn from only the new instances not repeatedly learn from the full data from scratch)"
   ]
  },
  {
   "cell_type": "markdown",
   "id": "79e6b083-b8dd-4d0b-91de-16fc8ec70176",
   "metadata": {
    "jp-MarkdownHeadingCollapsed": true
   },
   "source": [
    "## 10. What is out of core learning?\n",
    "An system where the model could learn from a part of given data because the full data couldn fit in the memory, and continuing learn from the rest of the data."
   ]
  },
  {
   "cell_type": "markdown",
   "id": "91a907a8-ef36-4726-9923-40ab7de97572",
   "metadata": {},
   "source": [
    "## 11. What type of algorithm relies on a similarity measure to make predictions?\n",
    "Instanced-based algorithm, for instance K-Nearest Neighbours algorithm "
   ]
  },
  {
   "cell_type": "markdown",
   "id": "78543e31-9e74-456a-a249-19eb6b481e9d",
   "metadata": {
    "jp-MarkdownHeadingCollapsed": true
   },
   "source": [
    "## 12. What is the difference between a model parameter and a model hyperparameter?\n",
    "A model parameter is the parameter used by the model from predicting values. On the other hand, model hyperparameter is the parameter used for suiting a model to reach optimal condition based on the given constraint. For example, we use model hyperparameter to make the model not fully fitted the data, but make it slightly off."
   ]
  },
  {
   "cell_type": "markdown",
   "id": "0fed63d0-7c56-4d8e-bbde-81aab11588ec",
   "metadata": {
    "jp-MarkdownHeadingCollapsed": true
   },
   "source": [
    "## 13. What do model-based algorithms search for? What is the most common strategy they use to succeed? How do they make predictions?\n",
    "Model based algorithm search for the most optimal parameters for their formula to reach the most accurate prediction. The most common strategy is to tune the parameters by calculating the accuracy of the prediction when its use the parameter, for example using cost function. They make predictions by using the final parameter they got after training in the model formula to predict value."
   ]
  },
  {
   "cell_type": "markdown",
   "id": "92f27fd7-33db-41fe-bc11-296d9183b45e",
   "metadata": {},
   "source": [
    "## 14. Can you name four of the main challenges in machine learning?\n",
    "- Insufficient data\n",
    "- Poor data quality\n",
    "- Data mismatch\n",
    "- Overfitting\n",
    "- Underfitting"
   ]
  },
  {
   "cell_type": "markdown",
   "id": "0e670f6c-bb8e-4502-85db-521618204b19",
   "metadata": {},
   "source": [
    "## 15. If your model performs great on the training data but generalizes poorly to new instances, what is happening? Can you name three possible solutions?\n",
    "It means the model has become overfitted. The model match too precise to the training data that it generalizing the data poorly. The possible solutions are:\n",
    "- Change the algorithm\n",
    "- Use regularization\n",
    "- Use better dataset"
   ]
  },
  {
   "cell_type": "markdown",
   "id": "d08c1881-59d7-4b02-8350-d058f0004cda",
   "metadata": {
    "jp-MarkdownHeadingCollapsed": true
   },
   "source": [
    "## 16. What is a test set, and why would you want to use it?\n",
    "Test set is the subset of the full dataset we have that we use to test the the accuracy of the model after trained it. "
   ]
  },
  {
   "cell_type": "markdown",
   "id": "d3981cca-a7e2-45b2-8ba3-926065e10f2a",
   "metadata": {},
   "source": [
    "## 17. What is the purpose of a validation set?\n",
    "The purpose of a validation test is set that used to compare models. Validation set helps to select the best model and tune the hyperparameters"
   ]
  },
  {
   "cell_type": "markdown",
   "id": "a137efdc-5ec6-4466-9506-73a0add3b418",
   "metadata": {
    "jp-MarkdownHeadingCollapsed": true
   },
   "source": [
    "## 18. What is the train-dev set, when do you need it, and how do you use it?\n",
    "Train-dev set is a subset of a training set that used to check if the data we had and the data given by user match or not. We sometimes need it to check if the model we made is perform poorly because it was overfitting or because the data mismatch. We use it by take some data of the training set (this is the train-dev set) and train the model with the remaining training set. Then, we test the model accuracy using the train-dev set. If the model predicted poorly, it means the model is overfitting. If the model predicted well, we will test the model again with the train set (or set of the data inputted by users).If the model perform bad, its because the data is mismatch. The data that used in the training is not really similar to data that used by the user to use the model."
   ]
  },
  {
   "cell_type": "markdown",
   "id": "d7c048cc-0032-4cb0-a16a-0565bc4db29a",
   "metadata": {},
   "source": [
    "## 19. What can go wrong if you tune hyperparameters using the test set.\n",
    "The model will not be regularized correctly because the model is trained by train set not the test set. So the hyperparameter will not be relevant to the model."
   ]
  },
  {
   "cell_type": "code",
   "execution_count": null,
   "id": "ea895d3a-7fa0-4dcf-81ad-bde4ca2d5604",
   "metadata": {},
   "outputs": [],
   "source": []
  }
 ],
 "metadata": {
  "kernelspec": {
   "display_name": "Python 3 (ipykernel)",
   "language": "python",
   "name": "python3"
  },
  "language_info": {
   "codemirror_mode": {
    "name": "ipython",
    "version": 3
   },
   "file_extension": ".py",
   "mimetype": "text/x-python",
   "name": "python",
   "nbconvert_exporter": "python",
   "pygments_lexer": "ipython3",
   "version": "3.9.18"
  }
 },
 "nbformat": 4,
 "nbformat_minor": 5
}
